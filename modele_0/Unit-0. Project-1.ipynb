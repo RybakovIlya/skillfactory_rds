{
 "cells": [
  {
   "cell_type": "code",
   "execution_count": 1,
   "metadata": {},
   "outputs": [
    {
     "name": "stdout",
     "output_type": "stream",
     "text": [
      "Загадано число от 1 до 100\n",
      "Ваш алгоритм угадывает число в среднем за 5 попыток\n"
     ]
    },
    {
     "data": {
      "text/plain": [
       "5"
      ]
     },
     "execution_count": 1,
     "metadata": {},
     "output_type": "execute_result"
    }
   ],
   "source": [
    "# To solve issue pointed in project in Unit 0 I change code to check mean value of range with random number.\n",
    "# After comparison programm cut off half of range that do not contain guessed number and repeat cycle with rest part of range.\n",
    "# According with initial conditions i use code from lesson and update it.\n",
    "# Changes: created function 'search_in middle' instead of 'game_core'; changed input parameters in function score_game.\n",
    "\n",
    "import numpy as np\n",
    "\n",
    "number = np.random.randint(1,101)    # загадали число\n",
    "print (\"Загадано число от 1 до 100\")\n",
    "\n",
    "def search_in_middle(number):\n",
    "    count = 1\n",
    "    start = 1     # start point of our range\n",
    "    end = 101     # end point of our range\n",
    "    predict = 50  # initial prdiction of value  \n",
    "    \n",
    "    while number != predict:\n",
    "        predict = int((start+end)/2)       \n",
    "        if number > predict: \n",
    "            start = predict     # cut off range from the smallest value to predicted value, coz it didn't contain answer\n",
    "            count+=1\n",
    "        elif number < predict: \n",
    "            end = predict     # cut off range from predicted value to the biggest value, coz it didn't contain answer\n",
    "            count+=1\n",
    "    return(count)\n",
    "\n",
    "search_in_middle(number) \n",
    "\n",
    "def score_game(search_in_middle):    # in this part of code chaned name of function to \"search_in_middle\"\n",
    "    '''Запускаем игру 1000 раз, чтобы узнать, как быстро игра угадывает число'''\n",
    "    count_ls = []\n",
    "    np.random.seed(1)  # фиксируем RANDOM SEED, чтобы ваш эксперимент был воспроизводим!\n",
    "    random_array = np.random.randint(1,101, size=(1000))\n",
    "    for number in random_array:\n",
    "        count_ls.append(search_in_middle(number))\n",
    "    score = int(np.mean(count_ls))\n",
    "    print(f\"Ваш алгоритм угадывает число в среднем за {score} попыток\")\n",
    "    return(score)\n",
    "\n",
    "# запускаем\n",
    "score_game(search_in_middle)\n"
   ]
  },
  {
   "cell_type": "code",
   "execution_count": null,
   "metadata": {},
   "outputs": [],
   "source": []
  }
 ],
 "metadata": {
  "kernelspec": {
   "display_name": "Python 3",
   "language": "python",
   "name": "python3"
  },
  "language_info": {
   "codemirror_mode": {
    "name": "ipython",
    "version": 3
   },
   "file_extension": ".py",
   "mimetype": "text/x-python",
   "name": "python",
   "nbconvert_exporter": "python",
   "pygments_lexer": "ipython3",
   "version": "3.7.4"
  }
 },
 "nbformat": 4,
 "nbformat_minor": 2
}
